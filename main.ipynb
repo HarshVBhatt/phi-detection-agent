{
 "cells": [
  {
   "cell_type": "code",
   "execution_count": null,
   "id": "c66156d6",
   "metadata": {},
   "outputs": [],
   "source": [
    "import os\n",
    "import io\n",
    "import json\n",
    "from langgraph.graph import StateGraph, START, END, MessagesState\n",
    "import pandas as pd\n",
    "from IPython.display import Image, display\n",
    "from PIL import Image as pil_image\n",
    "import pytesseract\n",
    "import pdfplumber\n",
    "from dataclasses import dataclass\n",
    "from typing import Literal\n",
    "from langchain_openai import ChatOpenAI"
   ]
  },
  {
   "cell_type": "code",
   "execution_count": null,
   "id": "e2f05499",
   "metadata": {},
   "outputs": [],
   "source": [
    "os.environ[\"OPENAI_API_KEY\"] = \"set_key\"\n",
    "os.environ[\"LANGSMITH_API_KEY\"] = \"set_key\"\n",
    "os.environ[\"LANGSMITH_TRACING\"] = \"true\"\n",
    "os.environ[\"LANGSMITH_PROJECT\"] = \"phi-detector\"\n",
    "os.environ[\"LANGSMITH_ENDPOINT\"] = \"https://api.smith.langchain.com\""
   ]
  },
  {
   "cell_type": "markdown",
   "id": "536d8ec2",
   "metadata": {},
   "source": [
    "# Input State"
   ]
  },
  {
   "cell_type": "code",
   "execution_count": 3,
   "id": "dbd964b6",
   "metadata": {},
   "outputs": [],
   "source": [
    "@dataclass\n",
    "class docState(MessagesState):\n",
    "    input: bytes\n",
    "    file_ext: str\n",
    "    text: str\n",
    "    instances: list[list]\n",
    "    exclude_filter: list"
   ]
  },
  {
   "cell_type": "markdown",
   "id": "6c97c7ed",
   "metadata": {},
   "source": [
    "# Get File Bytes"
   ]
  },
  {
   "cell_type": "code",
   "execution_count": 4,
   "id": "f19b3bee",
   "metadata": {},
   "outputs": [],
   "source": [
    "def get_file_data(file_path):\n",
    "    with open(file_path, \"rb\") as f:\n",
    "        file_bytes = f.read()\n",
    "    file_ext = file_path.lower().split('.')[-1]\n",
    "    return file_bytes, file_ext"
   ]
  },
  {
   "cell_type": "markdown",
   "id": "9f3f51ab",
   "metadata": {},
   "source": [
    "# Router"
   ]
  },
  {
   "cell_type": "code",
   "execution_count": 5,
   "id": "9f7825e1",
   "metadata": {},
   "outputs": [],
   "source": [
    "def input_router(doc_state) -> Literal[\"OCR\", \"PDF Parser\", \"CSV Parser\"]:\n",
    "    file_ext = doc_state[\"file_ext\"]\n",
    "    if file_ext == \"png\":\n",
    "        return \"OCR\"\n",
    "    elif file_ext == \"pdf\":\n",
    "        return \"PDF Parser\"\n",
    "    elif file_ext == \"csv\":\n",
    "        return \"CSV Parser\"\n",
    "    else:\n",
    "        raise \"Invalid file type\""
   ]
  },
  {
   "cell_type": "markdown",
   "id": "63fffd7a",
   "metadata": {},
   "source": [
    "# OCR Tool"
   ]
  },
  {
   "cell_type": "code",
   "execution_count": 6,
   "id": "83ae53a8",
   "metadata": {},
   "outputs": [],
   "source": [
    "def ocr_tool(doc_state):\n",
    "    image = pil_image.open(io.BytesIO(doc_state[\"input\"]))\n",
    "    text = pytesseract.image_to_string(image).strip()\n",
    "    text = text.replace(\"\\n\", \" \")\n",
    "    doc_state[\"text\"] = text\n",
    "    return doc_state"
   ]
  },
  {
   "cell_type": "markdown",
   "id": "3678ee1d",
   "metadata": {},
   "source": [
    "# PDF Parser"
   ]
  },
  {
   "cell_type": "code",
   "execution_count": 7,
   "id": "3ed75c1a",
   "metadata": {},
   "outputs": [],
   "source": [
    "def pdf_parser_tool(doc_state):\n",
    "    text = \"\"\n",
    "    with pdfplumber.open(io.BytesIO(doc_state[\"input\"])) as pdf:\n",
    "        for page in pdf.pages:\n",
    "            text += page.extract_text() or \"\"\n",
    "    doc_state[\"text\"] = text\n",
    "    return doc_state"
   ]
  },
  {
   "cell_type": "markdown",
   "id": "c501b6ad",
   "metadata": {},
   "source": [
    "# CSV Parser"
   ]
  },
  {
   "cell_type": "code",
   "execution_count": 8,
   "id": "1cb9690d",
   "metadata": {},
   "outputs": [],
   "source": [
    "def csv_parser_tool(doc_state):\n",
    "    df = pd.read_csv(io.BytesIO(doc_state[\"input\"]))\n",
    "    text = \"\"\n",
    "    for row in df.iterrows():\n",
    "        text += f\"Index: {row[0]}\\n\"\n",
    "        for item,col in zip(row[1].values,df.columns):\n",
    "            text += f\"{col}: {item}\\n\"\n",
    "        text += \"\\n\"\n",
    "    doc_state[\"text\"] = text\n",
    "    return doc_state"
   ]
  },
  {
   "cell_type": "markdown",
   "id": "1f9d19c2",
   "metadata": {},
   "source": [
    "# Initialize LLM"
   ]
  },
  {
   "cell_type": "code",
   "execution_count": 9,
   "id": "a03291dc",
   "metadata": {},
   "outputs": [],
   "source": [
    "llm = ChatOpenAI(model = \"gpt-4o\")"
   ]
  },
  {
   "cell_type": "markdown",
   "id": "36e5e5fa",
   "metadata": {},
   "source": [
    "# PHI Identifier"
   ]
  },
  {
   "cell_type": "code",
   "execution_count": 10,
   "id": "d0a26eaa",
   "metadata": {},
   "outputs": [],
   "source": [
    "def get_exclusion(filter_list):\n",
    "    text = \".\"\n",
    "    if filter_list:\n",
    "        text += \"except PHI instances of the type\"\n",
    "        for item in filter_list[:-1]:\n",
    "            text += f\" {item},\"\n",
    "        if len(filter_list) > 1:\n",
    "            text += \" and\"\n",
    "        text += f\" {filter_list[-1]}.\"\n",
    "    return text"
   ]
  },
  {
   "cell_type": "code",
   "execution_count": 67,
   "id": "014a87e0",
   "metadata": {},
   "outputs": [],
   "source": [
    "def phi_identifier(doc_state):\n",
    "    prompt = (\"You are a Personal Health Identifier (PHI) detection agent. \"\n",
    "              f\"List all instances of PHI in the text below{get_exclusion(doc_state['exclude_filter'])}\" \n",
    "              \"For each, return a JSON object with 'type', 'value', 'start' and 'end' (character positions in text).\"\n",
    "              \"Return ONLY a valid JSON array, no other text.\"\n",
    "              \"Text:\\n\" + doc_state['text'])\n",
    "    \n",
    "    response = llm.invoke(prompt)\n",
    "    content = response.content\n",
    "\n",
    "    try:\n",
    "        if content.strip().startswith('['):\n",
    "            phi_instances = json.loads(content.strip())\n",
    "        else:\n",
    "            json_start = content.find('[') \n",
    "            json_end = content.rfind(']') + 1\n",
    "            if json_start >= 0 and json_end > json_start:\n",
    "                phi_instances = json.loads(content[json_start:json_end])\n",
    "            else:\n",
    "                phi_instances = []\n",
    "        doc_state[\"instances\"].append(phi_instances)\n",
    "    except Exception:\n",
    "        doc_state[\"instances\"].append([])\n",
    "    return doc_state"
   ]
  },
  {
   "cell_type": "markdown",
   "id": "a6ff5a75",
   "metadata": {},
   "source": [
    "# PHI rationale"
   ]
  },
  {
   "cell_type": "code",
   "execution_count": 12,
   "id": "5f6b2a36",
   "metadata": {},
   "outputs": [],
   "source": [
    "phi_ref_list = [\"Social Security numbers\", \"Medical record numbers, health plan numbers\", \"Account numbers\", \"Biometric identifiers (finger/voice prints)\", \"Names\",\n",
    "                \"Full face photographic/comparable images\", \"Dates (except year), ages >89\", \"Geographic subdivisions < state\", \"Certificate/license numbers\", \"Vehicle identifiers\",\n",
    "                \"Device identifiers\", \"Telephone numbers\", \"Fax numbers\", \"Email addresses\", \"Web URLs, IP addresses\", \"Any other unique identifying number/code\"]"
   ]
  },
  {
   "cell_type": "code",
   "execution_count": 77,
   "id": "2ceec00a",
   "metadata": {},
   "outputs": [],
   "source": [
    "def phi_rationale(doc_state):\n",
    "    prompt = (\"You are a Personal Health Identifier (PHI) risk assessment agent. \"\n",
    "              \"Analyze each item in the following list of PHI instances, classify it into a type of PHI using the PHI type reference list, and provide a single line rationale behind the PHI risk it poses.\"\n",
    "              \"If the PHI type is None then remove the item\"\n",
    "              \"For each, append the original JSON object with 'PHI type', and 'PHI risk rationale'. Return ONLY a valid JSON array, no other text.\"\n",
    "              f\"PHI type reference list: {phi_ref_list}\"\n",
    "              f\"PHI instances:\\n {doc_state['instances'][-1]}\")\n",
    "    \n",
    "    response = llm.invoke(prompt)\n",
    "    content = response.content.strip()\n",
    "\n",
    "    try:\n",
    "        if content.strip().startswith('['):\n",
    "            phi_instances = json.loads(content)\n",
    "        else:\n",
    "            json_start = content.find('[') \n",
    "            json_end = content.rfind(']') + 1\n",
    "            if json_start >= 0 and json_end > json_start:\n",
    "                phi_instances = json.loads(content[json_start:json_end])\n",
    "            else:\n",
    "                phi_instances = doc_state[\"instances\"][-1]\n",
    "        doc_state[\"instances\"].append(phi_instances)\n",
    "    except Exception:\n",
    "        doc_state[\"instances\"].append(doc_state[\"instances\"][-1])\n",
    "    return doc_state"
   ]
  },
  {
   "cell_type": "markdown",
   "id": "25494e75",
   "metadata": {},
   "source": [
    "# Helper Functions"
   ]
  },
  {
   "cell_type": "markdown",
   "id": "46429aca",
   "metadata": {},
   "source": [
    "## Clean json string"
   ]
  },
  {
   "cell_type": "code",
   "execution_count": 51,
   "id": "08c4dfbf",
   "metadata": {},
   "outputs": [],
   "source": [
    "def extract_dict(text: str):\n",
    "    lines = text.splitlines()\n",
    "    instances_dict = \"\".join(lines[1:-1]).replace(\"\\'\", \"\\\"\")\n",
    "    instances = json.loads(instances_dict)\n",
    "    return instances"
   ]
  },
  {
   "cell_type": "markdown",
   "id": "6b8e693e",
   "metadata": {},
   "source": [
    "# Graph"
   ]
  },
  {
   "cell_type": "code",
   "execution_count": 78,
   "id": "551202be",
   "metadata": {},
   "outputs": [],
   "source": [
    "graph = StateGraph(state_schema=docState)"
   ]
  },
  {
   "cell_type": "code",
   "execution_count": 79,
   "id": "fda6afee",
   "metadata": {},
   "outputs": [
    {
     "data": {
      "text/plain": [
       "<langgraph.graph.state.StateGraph at 0x14a3ead90>"
      ]
     },
     "execution_count": 79,
     "metadata": {},
     "output_type": "execute_result"
    }
   ],
   "source": [
    "graph.add_node(\"OCR\", ocr_tool)\n",
    "graph.add_node(\"PDF Parser\", pdf_parser_tool)\n",
    "graph.add_node(\"CSV Parser\", csv_parser_tool)\n",
    "graph.add_node(\"PHI Identifier\", phi_identifier)\n",
    "graph.add_node(\"PHI Rationale\", phi_rationale)"
   ]
  },
  {
   "cell_type": "code",
   "execution_count": 80,
   "id": "1110e30f",
   "metadata": {},
   "outputs": [
    {
     "data": {
      "text/plain": [
       "<langgraph.graph.state.StateGraph at 0x14a3ead90>"
      ]
     },
     "execution_count": 80,
     "metadata": {},
     "output_type": "execute_result"
    }
   ],
   "source": [
    "graph.add_conditional_edges(START, input_router)\n",
    "graph.add_edge(\"OCR\", \"PHI Identifier\")\n",
    "graph.add_edge(\"PDF Parser\", \"PHI Identifier\")\n",
    "graph.add_edge(\"CSV Parser\", \"PHI Identifier\")\n",
    "graph.add_edge(\"PHI Identifier\", \"PHI Rationale\")\n",
    "graph.add_edge(\"PHI Rationale\", END)"
   ]
  },
  {
   "cell_type": "code",
   "execution_count": 81,
   "id": "dde5f90d",
   "metadata": {},
   "outputs": [],
   "source": [
    "flow_graph = graph.compile()"
   ]
  },
  {
   "cell_type": "code",
   "execution_count": 82,
   "id": "615a5246",
   "metadata": {},
   "outputs": [
    {
     "data": {
      "image/png": "[encoded data removed]",
      "text/plain": [
       "<IPython.core.display.Image object>"
      ]
     },
     "metadata": {},
     "output_type": "display_data"
    }
   ],
   "source": [
    "display(Image(flow_graph.get_graph(xray=True).draw_mermaid_png()))"
   ]
  },
  {
   "cell_type": "markdown",
   "id": "fa4bcacb",
   "metadata": {},
   "source": [
    "# Run"
   ]
  },
  {
   "cell_type": "code",
   "execution_count": 83,
   "id": "1955734d",
   "metadata": {},
   "outputs": [],
   "source": [
    "def run_flow(file_path = \"handwritten_note_generated.png\", exclude_filter = []):\n",
    "    file_bytes, file_ext = get_file_data(file_path = file_path)\n",
    "    doc_state = docState(input = file_bytes, file_ext = file_ext, text = \"\", instances = [], exclude_filter = exclude_filter)\n",
    "    result = flow_graph.invoke(doc_state)\n",
    "    phi_instances = result[\"instances\"][-1]\n",
    "    orig_text = result[\"text\"]\n",
    "\n",
    "    if type(phi_instances) != list:\n",
    "        try:\n",
    "            phi_instances = extract_dict(phi_instances)\n",
    "        except:\n",
    "            pass\n",
    "    return orig_text, phi_instances"
   ]
  },
  {
   "cell_type": "code",
   "execution_count": 84,
   "id": "68d480e0",
   "metadata": {},
   "outputs": [],
   "source": [
    "orig_text, instances = run_flow()"
   ]
  },
  {
   "cell_type": "code",
   "execution_count": 85,
   "id": "2ef75c5c",
   "metadata": {},
   "outputs": [
    {
     "data": {
      "text/plain": [
       "'Mr. John Smith (Patient ID: 006679) has an appointment on 6th June for chills, fever and body ache. Please contact Dr. Doe +18003001000 for more information.'"
      ]
     },
     "execution_count": 85,
     "metadata": {},
     "output_type": "execute_result"
    }
   ],
   "source": [
    "orig_text"
   ]
  },
  {
   "cell_type": "code",
   "execution_count": 86,
   "id": "3354be0a",
   "metadata": {},
   "outputs": [
    {
     "data": {
      "text/plain": [
       "[{'type': 'Name',\n",
       "  'value': 'John Smith',\n",
       "  'start': 4,\n",
       "  'end': 14,\n",
       "  'PHI type': 'Names',\n",
       "  'PHI risk rationale': 'Names can directly identify individuals and reveal personal information.'},\n",
       " {'type': 'Patient ID',\n",
       "  'value': '006679',\n",
       "  'start': 28,\n",
       "  'end': 34,\n",
       "  'PHI type': 'Medical record numbers, health plan numbers',\n",
       "  'PHI risk rationale': 'Patient IDs are unique identifiers that can be linked to medical records.'},\n",
       " {'type': 'Date',\n",
       "  'value': '6th June',\n",
       "  'start': 60,\n",
       "  'end': 68,\n",
       "  'PHI type': 'Dates (except year), ages >89',\n",
       "  'PHI risk rationale': 'Specific dates can be used to infer or match personal information.'},\n",
       " {'type': 'Name',\n",
       "  'value': 'Dr. Doe',\n",
       "  'start': 102,\n",
       "  'end': 109,\n",
       "  'PHI type': 'Names',\n",
       "  'PHI risk rationale': 'Names can directly identify individuals and reveal personal information.'},\n",
       " {'type': 'Phone Number',\n",
       "  'value': '+18003001000',\n",
       "  'start': 110,\n",
       "  'end': 122,\n",
       "  'PHI type': 'Telephone numbers',\n",
       "  'PHI risk rationale': 'Phone numbers can be used to directly contact individuals.'}]"
      ]
     },
     "execution_count": 86,
     "metadata": {},
     "output_type": "execute_result"
    }
   ],
   "source": [
    "instances"
   ]
  },
  {
   "cell_type": "markdown",
   "id": "6be88642",
   "metadata": {},
   "source": [
    "# Step-by-step-run"
   ]
  },
  {
   "cell_type": "code",
   "execution_count": null,
   "id": "7434ed28",
   "metadata": {},
   "outputs": [],
   "source": [
    "file_bytes, file_ext = get_file_data(file_path = \"handwritten_note_generated.png\")\n",
    "# file_bytes, file_ext = get_file_data(file_path = \"Note draft.pdf\")\n",
    "# file_bytes, file_ext = get_file_data(file_path = \"sample_sheet.csv\")"
   ]
  },
  {
   "cell_type": "code",
   "execution_count": null,
   "id": "06c88b2f",
   "metadata": {},
   "outputs": [],
   "source": [
    "doc_state = docState(input = file_bytes, file_ext = file_ext, text = \"\", instances = [], deidentified_text = \"\", exclude_filter=[])"
   ]
  },
  {
   "cell_type": "code",
   "execution_count": null,
   "id": "79fb5a0a",
   "metadata": {},
   "outputs": [],
   "source": [
    "result = flow_graph.invoke(doc_state)"
   ]
  },
  {
   "cell_type": "code",
   "execution_count": null,
   "id": "7193452c",
   "metadata": {},
   "outputs": [
    {
     "data": {
      "text/plain": [
       "[{'type': 'Name',\n",
       "  'value': 'John Smith',\n",
       "  'start': 4,\n",
       "  'end': 14,\n",
       "  'PHI type': 'Names',\n",
       "  'PHI risk rationale': 'Directly identifies an individual, posing a risk of personal identification.'},\n",
       " {'type': 'Date',\n",
       "  'value': '6th June',\n",
       "  'start': 57,\n",
       "  'end': 65,\n",
       "  'PHI type': 'Dates (except year), ages >89',\n",
       "  'PHI risk rationale': 'Specifying a date can be used to identify individuals when combined with other information.'},\n",
       " {'type': 'Name',\n",
       "  'value': 'Dr. Doe',\n",
       "  'start': 115,\n",
       "  'end': 122,\n",
       "  'PHI type': 'Names',\n",
       "  'PHI risk rationale': 'Names can be used to identify health professionals and potentially link them to individuals.'},\n",
       " {'type': 'Phone Number',\n",
       "  'value': '+18003001000',\n",
       "  'start': 123,\n",
       "  'end': 135,\n",
       "  'PHI type': 'Telephone numbers',\n",
       "  'PHI risk rationale': 'Can be used to contact or trace individuals, posing a privacy risk.'}]"
      ]
     },
     "metadata": {},
     "output_type": "display_data"
    }
   ],
   "source": [
    "result[\"instances\"][-1]"
   ]
  }
 ],
 "metadata": {
  "kernelspec": {
   "display_name": "phi-fix",
   "language": "python",
   "name": "python3"
  },
  "language_info": {
   "codemirror_mode": {
    "name": "ipython",
    "version": 3
   },
   "file_extension": ".py",
   "mimetype": "text/x-python",
   "name": "python",
   "nbconvert_exporter": "python",
   "pygments_lexer": "ipython3",
   "version": "3.11.5"
  }
 },
 "nbformat": 4,
 "nbformat_minor": 5
}
